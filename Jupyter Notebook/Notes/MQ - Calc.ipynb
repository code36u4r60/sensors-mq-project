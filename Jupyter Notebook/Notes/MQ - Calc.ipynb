{
 "cells": [
  {
   "cell_type": "markdown",
   "id": "9757ec2e",
   "metadata": {},
   "source": [
    "## Caracterização do Sensor de Gás"
   ]
  },
  {
   "cell_type": "markdown",
   "id": "8002adcf",
   "metadata": {},
   "source": [
    "## Cálculos: $R_S$ e $R_0$\n",
    "\n",
    "$V=RI$\n",
    "\n",
    "$I = \\dfrac{V}{R}$\n",
    "\n",
    "$I = \\dfrac{V_C}{RS+RL}$  \n",
    "\n",
    "---\n",
    "\n",
    "$V = I \\times R$  \n",
    "  \n",
    "  \n",
    "$V_{RL} = \\dfrac{V_C}{R_S + R_L} \\times R_L$\n",
    "   \n",
    "   \n",
    "$V_{RL} = \\frac{V_C \\times R_L}{R_S + R_L}$ \n",
    "\n",
    "---\n",
    "\n",
    "$V_{RL} \\times (R_S + R_L) = V_C \\times R_L$\n",
    "\n",
    "$ V_{RL} \\times R_S + V_{RL} \\times R_L = V_C \\times R_L $\n",
    "\n",
    "$ V_{RL} \\times R_S = V_C \\times R_L  - V_{RL} \\times R_L$\n",
    "\n",
    "$R_S = \\dfrac{V_C \\times R_L - V_{RL} \\times R_L}{V_{RL}}$\n",
    "\n",
    "$R_S = \\dfrac{V_C \\times R_L}{V_{RL}} - R_L$\n",
    "\n",
    "$\\frac{R_S}{R_0} = air(datasheet)$ \n",
    "\n",
    "---\n",
    "\n",
    "$\\log(y) = m.\\log(x) + b$ \n",
    "\n",
    "$m = \\dfrac{log(y) - log(y_0)}{log(x) - log(x_0)} \\Longrightarrow m = \\dfrac{log(\\dfrac{y}{y_0})}{log(\\dfrac{x}{x_0})}$\n",
    "\n",
    "$\\log(y) = m.\\log(x) + b$\n",
    "\n",
    "$b = \\log(y) - m.\\log(x)$\n",
    "\n",
    "---\n",
    "\n",
    "$\\log(x) = \\dfrac{log(y) - b}{m}$\n",
    "\n",
    "$x = 10^{\\dfrac{\\log(y) - b}{m}}$"
   ]
  }
 ],
 "metadata": {
  "kernelspec": {
   "display_name": "Python 3 (ipykernel)",
   "language": "python",
   "name": "python3"
  },
  "language_info": {
   "codemirror_mode": {
    "name": "ipython",
    "version": 3
   },
   "file_extension": ".py",
   "mimetype": "text/x-python",
   "name": "python",
   "nbconvert_exporter": "python",
   "pygments_lexer": "ipython3",
   "version": "3.10.4"
  }
 },
 "nbformat": 4,
 "nbformat_minor": 5
}
