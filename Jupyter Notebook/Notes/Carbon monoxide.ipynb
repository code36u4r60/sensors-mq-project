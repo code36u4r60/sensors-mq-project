{
 "cells": [
  {
   "cell_type": "markdown",
   "id": "1c1f2e37",
   "metadata": {},
   "source": [
    "##  Carbon monoxide\n",
    "\n",
    "- As concentrações globais de fundo de monóxido de carbono variam entre:\n",
    "  - 0,06 mg/m3 e 0,14 mg/m3 (0,05–0,12 ppm).\n",
    "\n",
    "- Em ambientes de tráfego urbano de grandes cidades europeias (8-hour average):\n",
    "  - inferiores a 20 mg/m3 (17 ppm) \n",
    "  - com picos de curta duração abaixo de 60 mg/m3 (53ppm).\n",
    "\n",
    "\n",
    "- As concentrações de monóxido de carbono no interior dos veículos são geralmente mais altas do que as medidas no ar ambiente externo.\n",
    "\n",
    "- Em \n",
    "    estacionamentos subterrâneos e de vários andares, \n",
    "    túneis rodoviários, \n",
    "    arenas de gelo fechadas \n",
    "    vários outros microambientes internos \n",
    "    (nos quais os motores de combustão são usados em condições de ventilação insuficiente), \n",
    "    - os níveis médios de monóxido de carbono podem subir acima de 115 mg/m3 (100 ppm) por vários horas, \n",
    "    - valores de pico de curta duração que podem ser muito maiores. \n",
    "\n",
    "    ```Em residências com aparelhos a gás, foram medidos picos de concentração de monóxido de carbono de até 60–115 mg/m3 (53–100 ppm).```\n",
    "\n",
    "- O tabaco em residências, escritórios, veículos e restaurantes (8-hour average): \n",
    "  - pode aumentar a concentração para 23–46 mg/m3 (20–40 ppm).\n",
    "  \n",
    "> World Health Organization. Regional Office for Europe. (‎1987)‎. Air quality guidelines for Europe. Copenhagen : WHO Regional Office for Europe. https://apps.who.int/iris/handle/10665/107364\n",
    "\n",
    "IAQ tempo real (Vila Real): https://www.accuweather.com/pt/pt/vila-real/276287/air-quality-index/276287"
   ]
  },
  {
   "cell_type": "code",
   "execution_count": null,
   "id": "8d80cb2f",
   "metadata": {},
   "outputs": [],
   "source": []
  }
 ],
 "metadata": {
  "kernelspec": {
   "display_name": "Python 3 (ipykernel)",
   "language": "python",
   "name": "python3"
  },
  "language_info": {
   "codemirror_mode": {
    "name": "ipython",
    "version": 3
   },
   "file_extension": ".py",
   "mimetype": "text/x-python",
   "name": "python",
   "nbconvert_exporter": "python",
   "pygments_lexer": "ipython3",
   "version": "3.10.4"
  }
 },
 "nbformat": 4,
 "nbformat_minor": 5
}
