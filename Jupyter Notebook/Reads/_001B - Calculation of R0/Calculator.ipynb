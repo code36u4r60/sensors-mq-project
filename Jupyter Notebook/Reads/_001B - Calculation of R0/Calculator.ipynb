{
 "cells": [
  {
   "cell_type": "markdown",
   "id": "fc050cb2",
   "metadata": {},
   "source": [
    "## Calculation of R0"
   ]
  },
  {
   "cell_type": "code",
   "execution_count": 1,
   "id": "d6663e2e",
   "metadata": {},
   "outputs": [],
   "source": [
    "import numpy as np\n",
    "import pandas as pd\n",
    "import matplotlib.pyplot as plt\n",
    "import math"
   ]
  },
  {
   "cell_type": "code",
   "execution_count": 2,
   "id": "3ef3a712",
   "metadata": {},
   "outputs": [],
   "source": [
    "col_list = [\"sensor1\", \"sensor2\", \"sensor3\", \"sensor4\", \"sensor5\", \"sensor6\"]\n",
    "mq2 = pd.read_csv('empty_mq2.csv', usecols=col_list)\n",
    "mq7 = pd.read_csv('empty_mq7-9.csv', usecols=[\"sensor1\", \"sensor2\", \"sensor3\"])\n",
    "mq9 = pd.read_csv('empty_mq7-9.csv', usecols=[\"sensor4\", \"sensor5\", \"sensor6\"])"
   ]
  },
  {
   "cell_type": "code",
   "execution_count": 3,
   "id": "6c97b7c4",
   "metadata": {},
   "outputs": [],
   "source": [
    "#mq2.describe()\n",
    "#mq7.describe()\n",
    "#mq9.describe()"
   ]
  },
  {
   "cell_type": "code",
   "execution_count": 4,
   "id": "9808f451",
   "metadata": {
    "tags": [
     "hide-input"
    ]
   },
   "outputs": [],
   "source": [
    "# RS value calculation\n",
    "Rs = lambda Vcc, Vrl, RL : ((Vcc - Vrl) / Vrl* RL)\n",
    "\n",
    "# R0 value calculation\n",
    "R0 = lambda Rs, air : Rs / air\n",
    "\n",
    "# RS/Ro value calculation (ratio)\n",
    "Ratio = lambda Rs, R0: Rs / R0"
   ]
  },
  {
   "cell_type": "code",
   "execution_count": 5,
   "id": "b2453f01",
   "metadata": {},
   "outputs": [
    {
     "name": "stdout",
     "output_type": "stream",
     "text": [
      "Sensor   Vrl      Rs       Ro       Ratio   \n",
      "1        0.18     133.74   13.61    9.83    \n",
      "2        0.58     37.74    3.84     9.83    \n",
      "3        0.01     2234.13  227.28   9.83    \n",
      "4        1.06     18.53    1.89     9.83    \n",
      "5        0.13     186.45   18.97    9.83    \n",
      "6        0.23     105.33   10.71    9.83    \n"
     ]
    }
   ],
   "source": [
    "# MQ - 2 \n",
    "Vcc = 5      #volts\n",
    "RL  = 5      #kOhms\n",
    "AIR = 9.83\n",
    "\n",
    "_vrl   = [vrl for vrl in mq2.mean()]\n",
    "_rs    = [Rs(Vcc, v, RL) for v in _vrl]\n",
    "_r0    = [R0(r, AIR) for r in _rs]\n",
    "_ratio = [Ratio(_rs[i], _r0[i]) for i in range(len(_rs))]\n",
    "\n",
    "print (\"{:<8} {:<8} {:<8} {:<8} {:<8}\"\n",
    "       .format('Sensor','Vrl', 'Rs', 'Ro','Ratio'))\n",
    "\n",
    "for i in range(len(_vrl)):\n",
    "    print (\"{:<8} {:<8} {:<8} {:<8} {:<8}\"\n",
    "           .format(i+1,\n",
    "               round(_vrl[i],2),\n",
    "               round(_rs[i],2),\n",
    "               round(_r0[i],2),\n",
    "               round(_ratio[i],2))\n",
    "          )"
   ]
  },
  {
   "cell_type": "code",
   "execution_count": 6,
   "id": "dd9e571d",
   "metadata": {},
   "outputs": [
    {
     "name": "stdout",
     "output_type": "stream",
     "text": [
      "Sensor   Vrl      Rs       Ro       Ratio   \n",
      "1        0.24     197.9    7.66     25.84   \n",
      "2        0.11     426.36   16.5     25.84   \n",
      "3        0.17     279.58   10.82    25.84   \n"
     ]
    }
   ],
   "source": [
    "# MQ - 7 \n",
    "Vcc = 5      #volts\n",
    "RL  = 10      #kOhms\n",
    "AIR = 25.836\n",
    "\n",
    "_vrl   = [vrl for vrl in mq7.mean()]\n",
    "_rs    = [Rs(Vcc, v, RL) for v in _vrl]\n",
    "_r0    = [R0(r, AIR) for r in _rs]\n",
    "_ratio = [Ratio(_rs[i], _r0[i]) for i in range(len(_rs))]\n",
    "\n",
    "print (\"{:<8} {:<8} {:<8} {:<8} {:<8}\"\n",
    "       .format('Sensor','Vrl', 'Rs', 'Ro','Ratio'))\n",
    "\n",
    "for i in range(len(_vrl)):\n",
    "    print (\"{:<8} {:<8} {:<8} {:<8} {:<8}\"\n",
    "           .format(i+1,\n",
    "               round(_vrl[i],2),\n",
    "               round(_rs[i],2),\n",
    "               round(_r0[i],2),\n",
    "               round(_ratio[i],2))\n",
    "          )"
   ]
  },
  {
   "cell_type": "code",
   "execution_count": 7,
   "id": "1c0df26b",
   "metadata": {},
   "outputs": [
    {
     "name": "stdout",
     "output_type": "stream",
     "text": [
      "Sensor   Vrl      Rs       Ro       Ratio   \n",
      "1        0.15     330.14   33.78    9.77    \n",
      "2        0.02     2132.86  218.22   9.77    \n",
      "3        0.16     305.29   31.24    9.77    \n"
     ]
    }
   ],
   "source": [
    "# MQ - 9 \n",
    "Vcc = 5      #volts\n",
    "RL  = 10      #kOhms\n",
    "AIR = 9.774\n",
    "\n",
    "_vrl   = [vrl for vrl in mq9.mean()]\n",
    "_rs    = [Rs(Vcc, v, RL) for v in _vrl]\n",
    "_r0    = [R0(r, AIR) for r in _rs]\n",
    "_ratio = [Ratio(_rs[i], _r0[i]) for i in range(len(_rs))]\n",
    "\n",
    "print (\"{:<8} {:<8} {:<8} {:<8} {:<8}\"\n",
    "       .format('Sensor','Vrl', 'Rs', 'Ro','Ratio'))\n",
    "\n",
    "for i in range(len(_vrl)):\n",
    "    print (\"{:<8} {:<8} {:<8} {:<8} {:<8}\"\n",
    "           .format(i+1,\n",
    "               round(_vrl[i],2),\n",
    "               round(_rs[i],2),\n",
    "               round(_r0[i],2),\n",
    "               round(_ratio[i],2))\n",
    "          )"
   ]
  },
  {
   "cell_type": "code",
   "execution_count": null,
   "id": "8c28d67d",
   "metadata": {},
   "outputs": [],
   "source": []
  }
 ],
 "metadata": {
  "kernelspec": {
   "display_name": "Python 3 (ipykernel)",
   "language": "python",
   "name": "python3"
  },
  "language_info": {
   "codemirror_mode": {
    "name": "ipython",
    "version": 3
   },
   "file_extension": ".py",
   "mimetype": "text/x-python",
   "name": "python",
   "nbconvert_exporter": "python",
   "pygments_lexer": "ipython3",
   "version": "3.10.4"
  }
 },
 "nbformat": 4,
 "nbformat_minor": 5
}
