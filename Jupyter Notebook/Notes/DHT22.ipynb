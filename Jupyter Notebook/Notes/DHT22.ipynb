{
 "cells": [
  {
   "cell_type": "markdown",
   "id": "599224fa",
   "metadata": {},
   "source": [
    "# Sensor DHT-22 (Temperatura e Humidade)"
   ]
  },
  {
   "cell_type": "markdown",
   "id": "1c71dc16",
   "metadata": {},
   "source": [
    "O DHT22 (também conhecido por AM2302) é um sensor de baixo custo. Tem como finalida a leitura de valores de humidade relativa e temperatura em formato digital. \n",
    "\n",
    "Ele usa um sensor capacitivo para medir a humidade e um ormistor para medir o ar circundante, a saída (pin out) temos um sinal digital."
   ]
  },
  {
   "cell_type": "markdown",
   "id": "f581505e",
   "metadata": {},
   "source": [
    "## Código usado para teste"
   ]
  },
  {
   "cell_type": "markdown",
   "id": "58d1f47d",
   "metadata": {},
   "source": [
    "No projeto foram udados vários sensores __DHT-22__. De forma a saber se os vários sensores tem leitura concordante entre si foram realizados alguns testes. \n",
    "\n",
    "O código a seguir apresentado representa o código usado.\n",
    "\n",
    "Na realização dos teste foi usado um __Arduino Uno__."
   ]
  },
  {
   "cell_type": "markdown",
   "id": "adef0a38",
   "metadata": {},
   "source": [
    "```cpp\n",
    "\n",
    "//Libraries\n",
    "#include <DHT.h>;\n",
    "\n",
    "//Constants\n",
    "#define DHTPINA 13  // what pin we're connected to\n",
    "#define DHTPINB 12\n",
    "#define DHTPINC 8\n",
    "#define DHTPIND 7\n",
    "#define DHTPINE 4\n",
    "\n",
    "#define DHTTYPE DHT22\n",
    "\n",
    "DHT dhtA(DHTPINA, DHTTYPE);  //// Initialize DHT sensor for normal 16mhz Arduino\n",
    "DHT dhtB(DHTPINB, DHTTYPE);\n",
    "DHT dhtC(DHTPINC, DHTTYPE);\n",
    "DHT dhtD(DHTPIND, DHTTYPE);\n",
    "DHT dhtE(DHTPINE, DHTTYPE);\n",
    "\n",
    "\n",
    "//Variables\n",
    "int chk;\n",
    "float hum;   //Stores humidity value\n",
    "float temp;  //Stores temperature value\n",
    "\n",
    "void setup() {\n",
    "  Serial.begin(9600);\n",
    "  dhtA.begin();\n",
    "  dhtB.begin();\n",
    "  dhtC.begin();\n",
    "  dhtD.begin();\n",
    "  dhtE.begin();\n",
    "}\n",
    "\n",
    "void loop() {\n",
    "\n",
    "  Serial.println(\"sensor A: Humidity: \" + String(dhtA.readHumidity()) + \" %, Temp: \" + String(dhtA.readTemperature()) + \" Celsius\");\n",
    "  delay(100);\n",
    "  Serial.println(\"sensor B: Humidity: \" + String(dhtB.readHumidity()) + \" %, Temp: \" + String(dhtB.readTemperature()) + \" Celsius\");\n",
    "  delay(100);\n",
    "  Serial.println(\"sensor C: Humidity: \" + String(dhtC.readHumidity()) + \" %, Temp: \" + String(dhtC.readTemperature()) + \" Celsius\");\n",
    "  delay(100);\n",
    "  Serial.println(\"sensor D: Humidity: \" + String(dhtD.readHumidity()) + \" %, Temp: \" + String(dhtD.readTemperature()) + \" Celsius\");\n",
    "  delay(100);\n",
    "  Serial.println(\"sensor E: Humidity: \" + String(dhtE.readHumidity()) + \" %, Temp: \" + String(dhtE.readTemperature()) + \" Celsius\");\n",
    "\n",
    "  Serial.println(\"\\n -------------- \\n \");\n",
    "\n",
    "  delay(2000);\n",
    "}\n",
    "\n",
    "\n",
    "   \n",
    "```"
   ]
  },
  {
   "cell_type": "code",
   "execution_count": null,
   "id": "fb5470d8",
   "metadata": {},
   "outputs": [],
   "source": []
  }
 ],
 "metadata": {
  "kernelspec": {
   "display_name": "Python 3 (ipykernel)",
   "language": "python",
   "name": "python3"
  },
  "language_info": {
   "codemirror_mode": {
    "name": "ipython",
    "version": 3
   },
   "file_extension": ".py",
   "mimetype": "text/x-python",
   "name": "python",
   "nbconvert_exporter": "python",
   "pygments_lexer": "ipython3",
   "version": "3.10.4"
  }
 },
 "nbformat": 4,
 "nbformat_minor": 5
}
